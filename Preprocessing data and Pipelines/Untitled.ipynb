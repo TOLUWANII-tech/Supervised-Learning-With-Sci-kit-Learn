{
 "cells": [
  {
   "cell_type": "markdown",
   "id": "28acd94e",
   "metadata": {},
   "source": [
    "### Preprocessing Data"
   ]
  },
  {
   "cell_type": "markdown",
   "id": "0d418e18",
   "metadata": {},
   "source": [
    "#### Creating dummy variables"
   ]
  },
  {
   "cell_type": "code",
   "execution_count": 25,
   "id": "c0b7ddf8",
   "metadata": {},
   "outputs": [],
   "source": [
    "import numpy as np\n",
    "import pandas as pd\n",
    "import matplotlib.pyplot as plt\n",
    "from sklearn.model_selection import KFold, cross_val_score\n",
    "from sklearn.impute import SimpleImputer\n",
    "from sklearn.pipeline import Pipeline"
   ]
  },
  {
   "cell_type": "code",
   "execution_count": 3,
   "id": "db8e4a0d",
   "metadata": {},
   "outputs": [],
   "source": [
    "music_df = pd.read_csv('music_clean.csv')"
   ]
  },
  {
   "cell_type": "code",
   "execution_count": 20,
   "id": "c99709dd",
   "metadata": {},
   "outputs": [
    {
     "name": "stdout",
     "output_type": "stream",
     "text": [
      "(1000, 12)\n",
      "   popularity  acousticness  danceability  duration_ms  energy  \\\n",
      "0        60.0      0.896000         0.726     214547.0   0.177   \n",
      "1        63.0      0.003840         0.635     190448.0   0.908   \n",
      "2        59.0      0.000075         0.352     456320.0   0.956   \n",
      "3        54.0      0.945000         0.488     352280.0   0.326   \n",
      "4        55.0      0.245000         0.667     273693.0   0.647   \n",
      "\n",
      "   instrumentalness  liveness  loudness  speechiness    tempo  valence  genre  \n",
      "0          0.000002    0.1160   -14.824       0.0353   92.934    0.618      1  \n",
      "1          0.083400    0.2390    -4.795       0.0563  110.012    0.637      1  \n",
      "2          0.020300    0.1250    -3.634       0.1490  122.897    0.228      1  \n",
      "3          0.015700    0.1190   -12.020       0.0328  106.063    0.323      1  \n",
      "4          0.000297    0.0633    -7.787       0.0487  143.995    0.300      1  \n"
     ]
    }
   ],
   "source": [
    "\n",
    "print(music_df.shape)\n",
    "#music_df.drop('Unnamed: 0',axis=1, inplace=True)\n",
    "print(music_df.head())"
   ]
  },
  {
   "cell_type": "markdown",
   "id": "3dea0576",
   "metadata": {},
   "source": [
    "##### df_dummies = pd.get_dummies(df['column'], drop_first = True)\n",
    "##### df_dummies = pd.concat([df, df_dummies], axis = 1)\n",
    "##### print(f\"The shape of dataframe dummies: {df_dummies.shape}\")\n",
    "##### print(df_dummies)\n",
    "\n",
    "##### For a df with only one categorical variable:\n",
    "##### df_dummies = pd.get_dummies(df, drop_first = True)"
   ]
  },
  {
   "cell_type": "code",
   "execution_count": 7,
   "id": "d46785ad",
   "metadata": {},
   "outputs": [],
   "source": [
    "from sklearn.linear_model import Ridge"
   ]
  },
  {
   "cell_type": "code",
   "execution_count": 15,
   "id": "ae8ceca2",
   "metadata": {},
   "outputs": [
    {
     "name": "stdout",
     "output_type": "stream",
     "text": [
      "Average RMSE: 10.29418369242257 \n",
      " Standard deviation for target array: 14.02156909907019\n"
     ]
    }
   ],
   "source": [
    "X = music_df.drop('popularity',axis=1)\n",
    "y = music_df.popularity\n",
    "\n",
    "\n",
    "\n",
    "ridge = Ridge(alpha = 0.2)\n",
    "kf = KFold(n_splits=6, shuffle=True, random_state=123)\n",
    "cv = cross_val_score(ridge, X, y, cv=kf, scoring = 'neg_mean_squared_error')#This changes the scoring metod from default r2 to -mse\n",
    "rmse = np.sqrt(-cv)\n",
    "\n",
    "    \n",
    "print(f\"Average RMSE: {np.mean(rmse)}\",'\\n',f\"Standard deviation for target array: {np.std(y)}\")"
   ]
  },
  {
   "cell_type": "markdown",
   "id": "7fe0d339",
   "metadata": {},
   "source": [
    "##### Handling missing data"
   ]
  },
  {
   "cell_type": "code",
   "execution_count": 24,
   "id": "94caac1d",
   "metadata": {},
   "outputs": [],
   "source": [
    "# df.isna().sum().sort_values()\n",
    "# df.dropna(subset=[list_of_columns_with_missing_values])\n",
    "\n",
    "#Only use this for data accounting for <= 5% of the total sample.\n"
   ]
  },
  {
   "cell_type": "code",
   "execution_count": 29,
   "id": "fd1aea80",
   "metadata": {},
   "outputs": [
    {
     "data": {
      "text/plain": [
       "1    500\n",
       "0    500\n",
       "Name: genre, dtype: int64"
      ]
     },
     "execution_count": 29,
     "metadata": {},
     "output_type": "execute_result"
    }
   ],
   "source": []
  },
  {
   "cell_type": "markdown",
   "id": "aa932cc8",
   "metadata": {},
   "source": [
    "##### Imputing missing data \n",
    "##### Imputation replaces all missing data in a column with an educated guess( usually the mean for numeric variables, and the most frequent value-or mode- for categorical variables)\n",
    "\n",
    "\n",
    "(Imputation has to be done after splitting the data to avoid data leakage- information from test set being revealed in the traning set before fiitting).\n"
   ]
  },
  {
   "cell_type": "markdown",
   "id": "0e7bf82d",
   "metadata": {},
   "source": [
    "\n",
    "##### Imputation for categorical data using most frequent strategy"
   ]
  },
  {
   "cell_type": "code",
   "execution_count": 22,
   "id": "b3dfd4e4",
   "metadata": {},
   "outputs": [],
   "source": [
    "# X_cat = df[[list_containing_column_names_of_categorial_features]].values\n",
    "# y = df.target.values\n",
    "# X_cat_train, X_cat_test, y_train, y_test = train_test_split(X_cat, y, test_size = 0.2, random_state = 42)\n",
    "# imp_cat = SimpleImputer(strategy = 'most_frequent')\n",
    "# X_cat_train = imp_cat.fit_transform(X_cat_train)\n",
    "# X_cat_test = imp_cat.transform(X_cat_test)\n"
   ]
  },
  {
   "cell_type": "markdown",
   "id": "9d6c3f5f",
   "metadata": {},
   "source": [
    "##### Imputation for numeric variables using the default mean (median can also be used)\n",
    "\n"
   ]
  },
  {
   "cell_type": "code",
   "execution_count": 21,
   "id": "db2ed8e8",
   "metadata": {},
   "outputs": [],
   "source": [
    "# X_num = df[[list_containing_column_names_of_numeric_features]].values\n",
    "# X_num_train, X_num_test, y_train, y_test = train_test_split(X_num, y, test_size = 0.2, random_state = 42)\n",
    "# imp_num = SimpleImputer()\n",
    "# X_num_train = num_cat.fit_transform(X_cat_train)\n",
    "# X_num_test = num_cat.transform(X_cat_test)"
   ]
  },
  {
   "attachments": {},
   "cell_type": "markdown",
   "id": "946b130e",
   "metadata": {},
   "source": [
    "Then, to create a unified X_train containing all features with imputed values for missing data\n"
   ]
  },
  {
   "cell_type": "code",
   "execution_count": 23,
   "id": "19aca942",
   "metadata": {},
   "outputs": [],
   "source": [
    "#  X_train = np.append(X_num_train, X_cat_train, axis = 1)\n",
    "# X_test = np.append(X_num_test, X_cat_test, axis = 1)"
   ]
  },
  {
   "cell_type": "markdown",
   "id": "2ec817cf",
   "metadata": {},
   "source": [
    "##### Imputting with a Pipeline (Transform and fit a model at once)\n",
    "##### In a pipeline, each step but the last must be a ttransformer."
   ]
  },
  {
   "cell_type": "code",
   "execution_count": 26,
   "id": "bd90c0f9",
   "metadata": {},
   "outputs": [],
   "source": [
    "#steps = [('imputer',SimpleImputer(strategy='mean')),\n",
    "#         ('model', LogisticRegression())]\n",
    "#pipeline = Pipeline(steps)\n",
    "#X_train, X_test, y_train, y_test = train_test_split(X,y,...)\n",
    "#pipeline.fit(X_train, y_train)\n",
    "#predictions = pipeline.predict(X_test)"
   ]
  },
  {
   "cell_type": "markdown",
   "id": "878f9291",
   "metadata": {},
   "source": [
    "#### Centering and Scaling\n",
    "Scaling our data by standardization ( (x-mean)/variance) for all values in each column."
   ]
  },
  {
   "cell_type": "code",
   "execution_count": 27,
   "id": "81e5b182",
   "metadata": {},
   "outputs": [
    {
     "data": {
      "text/html": [
       "<div>\n",
       "<style scoped>\n",
       "    .dataframe tbody tr th:only-of-type {\n",
       "        vertical-align: middle;\n",
       "    }\n",
       "\n",
       "    .dataframe tbody tr th {\n",
       "        vertical-align: top;\n",
       "    }\n",
       "\n",
       "    .dataframe thead th {\n",
       "        text-align: right;\n",
       "    }\n",
       "</style>\n",
       "<table border=\"1\" class=\"dataframe\">\n",
       "  <thead>\n",
       "    <tr style=\"text-align: right;\">\n",
       "      <th></th>\n",
       "      <th>popularity</th>\n",
       "      <th>acousticness</th>\n",
       "      <th>danceability</th>\n",
       "      <th>duration_ms</th>\n",
       "      <th>energy</th>\n",
       "      <th>instrumentalness</th>\n",
       "      <th>liveness</th>\n",
       "      <th>loudness</th>\n",
       "      <th>speechiness</th>\n",
       "      <th>tempo</th>\n",
       "      <th>valence</th>\n",
       "      <th>genre</th>\n",
       "    </tr>\n",
       "  </thead>\n",
       "  <tbody>\n",
       "    <tr>\n",
       "      <th>count</th>\n",
       "      <td>1000.000000</td>\n",
       "      <td>1000.000000</td>\n",
       "      <td>1000.000000</td>\n",
       "      <td>1.000000e+03</td>\n",
       "      <td>1000.000000</td>\n",
       "      <td>1000.000000</td>\n",
       "      <td>1000.000000</td>\n",
       "      <td>1000.000000</td>\n",
       "      <td>1000.000000</td>\n",
       "      <td>1000.000000</td>\n",
       "      <td>1000.000000</td>\n",
       "      <td>1000.00000</td>\n",
       "    </tr>\n",
       "    <tr>\n",
       "      <th>mean</th>\n",
       "      <td>51.660000</td>\n",
       "      <td>0.258649</td>\n",
       "      <td>0.542602</td>\n",
       "      <td>2.172204e+05</td>\n",
       "      <td>0.636464</td>\n",
       "      <td>0.137289</td>\n",
       "      <td>0.199993</td>\n",
       "      <td>-8.253305</td>\n",
       "      <td>0.077879</td>\n",
       "      <td>120.368400</td>\n",
       "      <td>0.480057</td>\n",
       "      <td>0.50000</td>\n",
       "    </tr>\n",
       "    <tr>\n",
       "      <th>std</th>\n",
       "      <td>14.028585</td>\n",
       "      <td>0.307494</td>\n",
       "      <td>0.160322</td>\n",
       "      <td>1.175582e+05</td>\n",
       "      <td>0.237789</td>\n",
       "      <td>0.285558</td>\n",
       "      <td>0.160435</td>\n",
       "      <td>5.158523</td>\n",
       "      <td>0.089451</td>\n",
       "      <td>28.942130</td>\n",
       "      <td>0.237854</td>\n",
       "      <td>0.50025</td>\n",
       "    </tr>\n",
       "    <tr>\n",
       "      <th>min</th>\n",
       "      <td>0.000000</td>\n",
       "      <td>0.000003</td>\n",
       "      <td>0.062400</td>\n",
       "      <td>-1.000000e+00</td>\n",
       "      <td>0.002510</td>\n",
       "      <td>0.000000</td>\n",
       "      <td>0.025400</td>\n",
       "      <td>-38.718000</td>\n",
       "      <td>0.023400</td>\n",
       "      <td>56.855000</td>\n",
       "      <td>0.029800</td>\n",
       "      <td>0.00000</td>\n",
       "    </tr>\n",
       "    <tr>\n",
       "      <th>25%</th>\n",
       "      <td>43.750000</td>\n",
       "      <td>0.013275</td>\n",
       "      <td>0.444000</td>\n",
       "      <td>1.806562e+05</td>\n",
       "      <td>0.485750</td>\n",
       "      <td>0.000000</td>\n",
       "      <td>0.100000</td>\n",
       "      <td>-9.775500</td>\n",
       "      <td>0.033100</td>\n",
       "      <td>95.909750</td>\n",
       "      <td>0.306500</td>\n",
       "      <td>0.00000</td>\n",
       "    </tr>\n",
       "    <tr>\n",
       "      <th>50%</th>\n",
       "      <td>54.000000</td>\n",
       "      <td>0.116000</td>\n",
       "      <td>0.548500</td>\n",
       "      <td>2.163000e+05</td>\n",
       "      <td>0.676500</td>\n",
       "      <td>0.000089</td>\n",
       "      <td>0.131000</td>\n",
       "      <td>-6.855000</td>\n",
       "      <td>0.043600</td>\n",
       "      <td>119.952961</td>\n",
       "      <td>0.473500</td>\n",
       "      <td>0.50000</td>\n",
       "    </tr>\n",
       "    <tr>\n",
       "      <th>75%</th>\n",
       "      <td>62.000000</td>\n",
       "      <td>0.426500</td>\n",
       "      <td>0.657000</td>\n",
       "      <td>2.605025e+05</td>\n",
       "      <td>0.822500</td>\n",
       "      <td>0.042825</td>\n",
       "      <td>0.273250</td>\n",
       "      <td>-4.977750</td>\n",
       "      <td>0.074950</td>\n",
       "      <td>140.033000</td>\n",
       "      <td>0.654000</td>\n",
       "      <td>1.00000</td>\n",
       "    </tr>\n",
       "    <tr>\n",
       "      <th>max</th>\n",
       "      <td>82.000000</td>\n",
       "      <td>0.996000</td>\n",
       "      <td>0.950000</td>\n",
       "      <td>1.617333e+06</td>\n",
       "      <td>0.995000</td>\n",
       "      <td>0.975000</td>\n",
       "      <td>0.991000</td>\n",
       "      <td>-0.883000</td>\n",
       "      <td>0.710000</td>\n",
       "      <td>207.852000</td>\n",
       "      <td>0.968000</td>\n",
       "      <td>1.00000</td>\n",
       "    </tr>\n",
       "  </tbody>\n",
       "</table>\n",
       "</div>"
      ],
      "text/plain": [
       "        popularity  acousticness  danceability   duration_ms       energy  \\\n",
       "count  1000.000000   1000.000000   1000.000000  1.000000e+03  1000.000000   \n",
       "mean     51.660000      0.258649      0.542602  2.172204e+05     0.636464   \n",
       "std      14.028585      0.307494      0.160322  1.175582e+05     0.237789   \n",
       "min       0.000000      0.000003      0.062400 -1.000000e+00     0.002510   \n",
       "25%      43.750000      0.013275      0.444000  1.806562e+05     0.485750   \n",
       "50%      54.000000      0.116000      0.548500  2.163000e+05     0.676500   \n",
       "75%      62.000000      0.426500      0.657000  2.605025e+05     0.822500   \n",
       "max      82.000000      0.996000      0.950000  1.617333e+06     0.995000   \n",
       "\n",
       "       instrumentalness     liveness     loudness  speechiness        tempo  \\\n",
       "count       1000.000000  1000.000000  1000.000000  1000.000000  1000.000000   \n",
       "mean           0.137289     0.199993    -8.253305     0.077879   120.368400   \n",
       "std            0.285558     0.160435     5.158523     0.089451    28.942130   \n",
       "min            0.000000     0.025400   -38.718000     0.023400    56.855000   \n",
       "25%            0.000000     0.100000    -9.775500     0.033100    95.909750   \n",
       "50%            0.000089     0.131000    -6.855000     0.043600   119.952961   \n",
       "75%            0.042825     0.273250    -4.977750     0.074950   140.033000   \n",
       "max            0.975000     0.991000    -0.883000     0.710000   207.852000   \n",
       "\n",
       "           valence       genre  \n",
       "count  1000.000000  1000.00000  \n",
       "mean      0.480057     0.50000  \n",
       "std       0.237854     0.50025  \n",
       "min       0.029800     0.00000  \n",
       "25%       0.306500     0.00000  \n",
       "50%       0.473500     0.50000  \n",
       "75%       0.654000     1.00000  \n",
       "max       0.968000     1.00000  "
      ]
     },
     "execution_count": 27,
     "metadata": {},
     "output_type": "execute_result"
    }
   ],
   "source": [
    "music_df.describe()"
   ]
  },
  {
   "cell_type": "code",
   "execution_count": null,
   "id": "e19e1827",
   "metadata": {},
   "outputs": [],
   "source": [
    "from sklearn.preprocessing import StandardScaler\n",
    "\n",
    "steps = [(\"scaler\", StandardScaler()),\n",
    "        ('lasso', Lasso(alpha=0.5))]\n",
    "\n",
    "pipeline = Pipeline(steps)\n",
    "\n",
    "X = music_df.drop('genre',axis=1)\n",
    "\n",
    "pipeline.fit"
   ]
  }
 ],
 "metadata": {
  "kernelspec": {
   "display_name": "Python 3 (ipykernel)",
   "language": "python",
   "name": "python3"
  },
  "language_info": {
   "codemirror_mode": {
    "name": "ipython",
    "version": 3
   },
   "file_extension": ".py",
   "mimetype": "text/x-python",
   "name": "python",
   "nbconvert_exporter": "python",
   "pygments_lexer": "ipython3",
   "version": "3.11.4"
  }
 },
 "nbformat": 4,
 "nbformat_minor": 5
}
